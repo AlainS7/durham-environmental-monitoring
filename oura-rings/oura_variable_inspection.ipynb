{
 "cells": [
  {
   "cell_type": "markdown",
   "id": "a7fbc8ed",
   "metadata": {},
   "source": [
    "---\n",
    "## 🔒 PUBLIC REPOSITORY SAFETY NOTICE\n",
    "\n",
    "**This notebook is safe for public repositories:**\n",
    "- ✅ Contains NO real API tokens or secrets\n",
    "- ✅ Uses placeholder/dummy data only\n",
    "- ✅ Generic examples for educational purposes\n",
    "- ✅ No personal identifiable information\n",
    "\n",
    "**To use with real data:**\n",
    "1. Store tokens in `.env` files OUTSIDE this repository\n",
    "2. Follow the setup guide in `SECRETS_SETUP.md`\n",
    "3. Use the CLI interface: `python -m oura_rings.cli`\n",
    "\n",
    "---"
   ]
  },
  {
   "cell_type": "markdown",
   "id": "abef18c1",
   "metadata": {},
   "source": [
    "# Oura Ring Data Analysis - Variable Inspection Guide\n",
    "\n",
    "**⚠️ EDUCATIONAL NOTEBOOK - Uses dummy data only. No real tokens or personal data.**\n",
    "\n",
    "This notebook demonstrates various ways to run Python code and inspect the variables you generate. We'll use Oura Ring API code patterns as examples.\n",
    "\n",
    "## Overview\n",
    "- **Basic Code Execution**: Run code cells and observe variable creation\n",
    "- **Display Variables**: Use print statements and display functions\n",
    "- **Variables Explorer**: Access built-in variable inspection tools\n",
    "- **Interactive Inspection**: View variables at cell outputs\n",
    "- **Magic Commands**: Use Jupyter magic for variable information\n",
    "- **Debugging**: Monitor variables during execution\n",
    "\n",
    "## Safety Note\n",
    "This notebook contains **NO real secrets**:\n",
    "- Uses placeholder tokens like `\"dummy_token_for_demo_purposes\"`\n",
    "- Generic resident numbers for illustration\n",
    "- Sample data for demonstration only"
   ]
  },
  {
   "cell_type": "code",
   "execution_count": null,
   "id": "2b358928",
   "metadata": {},
   "outputs": [
    {
     "name": "stdout",
     "output_type": "stream",
     "text": [
      "✅ Basic setup complete!\n",
      "API_URL: https://api.ouraring.com\n",
      "Resident number: 3\n",
      "Date parameters: {'start_date': '2025-01-01', 'end_date': '2025-09-23'}\n"
     ]
    }
   ],
   "source": [
    "# Import libraries from your Oura code\n",
    "from __future__ import annotations\n",
    "from datetime import date, timedelta\n",
    "from typing import Any\n",
    "import requests\n",
    "from pathlib import Path\n",
    "import os\n",
    "\n",
    "# Set up constants (EXAMPLE VALUES ONLY)\n",
    "API_URL = \"https://api.ouraring.com\"\n",
    "resident_no = 1  # Generic example resident\n",
    "\n",
    "# Create date parameters (sample range)\n",
    "params = {\n",
    "    \"start_date\": \"2025-01-01\",\n",
    "    \"end_date\": \"2025-01-31\"  # One month sample\n",
    "}\n",
    "\n",
    "print(\"✅ Basic setup complete!\")\n",
    "print(f\"API_URL: {API_URL}\")\n",
    "print(f\"Resident number (example): {resident_no}\")\n",
    "print(f\"Date parameters: {params}\")"
   ]
  },
  {
   "cell_type": "markdown",
   "id": "b9d65f8d",
   "metadata": {},
   "source": [
    "## 2. Display Variables with Print Statements\n",
    "\n",
    "The most basic way to see your variables is using print statements. Let's explore different ways to display variable information."
   ]
  },
  {
   "cell_type": "code",
   "execution_count": 9,
   "id": "49f46c0e",
   "metadata": {},
   "outputs": [
    {
     "name": "stdout",
     "output_type": "stream",
     "text": [
      "=== VARIABLE INSPECTION WITH PRINT ===\n",
      "1. Variable value: dummy_token_for_demo_purposes\n",
      "2. Variable type: <class 'str'>\n",
      "3. Variable length: 29\n",
      "4. First 10 characters: dummy_toke...\n",
      "\n",
      "5. Client object: <__main__.OuraClient object at 0x000001A582F97B60>\n",
      "6. Client type: <class '__main__.OuraClient'>\n",
      "7. Client attributes: ['close', 'session']\n",
      "\n",
      "8. Params dictionary: {'start_date': '2025-01-01', 'end_date': '2025-09-23'}\n",
      "9. Params keys: ['start_date', 'end_date']\n",
      "10. Params values: ['2025-01-01', '2025-09-23']\n",
      "\n",
      "=== FORMATTED OUTPUT ===\n",
      "API URL: 'https://api.ouraring.com'\n",
      "Resident #3 date range: 2025-01-01 to 2025-09-23\n"
     ]
    }
   ],
   "source": [
    "# Define your OuraClient class (simplified version)\n",
    "class OuraClient:\n",
    "    def __init__(self, personal_access_token: str):\n",
    "        self._personal_access_token = personal_access_token\n",
    "        self.session = requests.Session()\n",
    "        self.session.headers.update(\n",
    "            {\"Authorization\": f\"Bearer {self._personal_access_token}\"}\n",
    "        )\n",
    "    \n",
    "    def close(self):\n",
    "        self.session.close()\n",
    "\n",
    "# Create a test client (using dummy token for demonstration)\n",
    "test_token = \"dummy_token_for_demo_purposes\"\n",
    "client = OuraClient(test_token)\n",
    "\n",
    "# Different ways to display variable information\n",
    "print(\"=== VARIABLE INSPECTION WITH PRINT ===\")\n",
    "print(f\"1. Variable value: {test_token}\")\n",
    "print(f\"2. Variable type: {type(test_token)}\")\n",
    "print(f\"3. Variable length: {len(test_token)}\")\n",
    "print(f\"4. First 10 characters: {test_token[:10]}...\")\n",
    "\n",
    "print(f\"\\n5. Client object: {client}\")\n",
    "print(f\"6. Client type: {type(client)}\")\n",
    "print(f\"7. Client attributes: {[attr for attr in dir(client) if not attr.startswith('_')]}\")\n",
    "\n",
    "print(f\"\\n8. Params dictionary: {params}\")\n",
    "print(f\"9. Params keys: {list(params.keys())}\")\n",
    "print(f\"10. Params values: {list(params.values())}\")\n",
    "\n",
    "# Using f-strings for formatted output\n",
    "print(f\"\\n=== FORMATTED OUTPUT ===\")\n",
    "print(f\"API URL: '{API_URL}'\")\n",
    "print(f\"Resident #{resident_no} date range: {params['start_date']} to {params['end_date']}\")\n",
    "\n",
    "client.close()"
   ]
  },
  {
   "cell_type": "markdown",
   "id": "dd9068ca",
   "metadata": {},
   "source": [
    "## 3. Using Magic Commands for Variable Information\n",
    "\n",
    "Jupyter notebooks have special \"magic commands\" that start with `%` or `%%`. These are very useful for variable inspection."
   ]
  },
  {
   "cell_type": "code",
   "execution_count": 10,
   "id": "c368c62c",
   "metadata": {},
   "outputs": [
    {
     "name": "stdout",
     "output_type": "stream",
     "text": [
      "=== MAGIC COMMANDS ===\n",
      "1. %who - List all variables:\n",
      "API_URL\t Any\t OuraClient\t Path\t annotations\t client\t date\t os\t params\t \n",
      "process_oura_data\t processed_data\t requests\t resident_no\t sample_activity_data\t sample_sleep_data\t sleep_scores\t test_token\t timedelta\t \n",
      "variable_list\t \n",
      "\n",
      "2. %who_ls - List variables as a list:\n",
      "Variables as list: ['API_URL', 'Any', 'OuraClient', 'Path', 'annotations', 'client', 'date', 'os', 'params', 'process_oura_data', 'processed_data', 'requests', 'resident_no', 'sample_activity_data', 'sample_sleep_data', 'sleep_scores', 'test_token', 'timedelta', 'variable_list']\n",
      "\n",
      "3. %whos - Detailed information about variables:\n",
      "Variable               Type          Data/Info\n",
      "----------------------------------------------\n",
      "API_URL                str           https://api.ouraring.com\n",
      "Any                    _AnyMeta      typing.Any\n",
      "OuraClient             type          <class '__main__.OuraClient'>\n",
      "Path                   type          <class 'pathlib._local.Path'>\n",
      "annotations            _Feature      _Feature((3, 7, 0, 'beta', 1), None, 16777216)\n",
      "client                 OuraClient    <__main__.OuraClient obje<...>ct at 0x000001A582F97B60>\n",
      "date                   type          <class 'datetime.date'>\n",
      "os                     module        <module 'os' (frozen)>\n",
      "params                 dict          n=2\n",
      "process_oura_data      function      <function process_oura_da<...>ta at 0x000001A5830C1DA0>\n",
      "processed_data         list          n=3\n",
      "requests               module        <module 'requests' from '<...>\\\\requests\\\\__init__.py'>\n",
      "resident_no            int           3\n",
      "sample_activity_data   list          n=3\n",
      "sample_sleep_data      list          n=3\n",
      "sleep_scores           list          n=3\n",
      "test_token             str           dummy_token_for_demo_purposes\n",
      "timedelta              type          <class 'datetime.timedelta'>\n",
      "variable_list          list          n=19\n"
     ]
    }
   ],
   "source": [
    "# Create some sample data that your Oura code would generate\n",
    "sample_sleep_data = [\n",
    "    {\"day\": \"2025-07-01\", \"score\": 85, \"total_sleep_duration\": 28800},\n",
    "    {\"day\": \"2025-07-02\", \"score\": 78, \"total_sleep_duration\": 26400},\n",
    "    {\"day\": \"2025-07-03\", \"score\": 92, \"total_sleep_duration\": 30600}\n",
    "]\n",
    "\n",
    "sample_activity_data = [\n",
    "    {\"day\": \"2025-07-01\", \"steps\": 8500, \"calories\": 2100},\n",
    "    {\"day\": \"2025-07-02\", \"steps\": 12000, \"calories\": 2300},\n",
    "    {\"day\": \"2025-07-03\", \"steps\": 6800, \"calories\": 1950}\n",
    "]\n",
    "\n",
    "# Use magic commands to inspect variables\n",
    "print(\"=== MAGIC COMMANDS ===\")\n",
    "print(\"1. %who - List all variables:\")\n",
    "%who\n",
    "\n",
    "print(\"\\n2. %who_ls - List variables as a list:\")\n",
    "variable_list = %who_ls\n",
    "print(f\"Variables as list: {variable_list}\")\n",
    "\n",
    "print(\"\\n3. %whos - Detailed information about variables:\")\n",
    "%whos"
   ]
  },
  {
   "cell_type": "markdown",
   "id": "917d2a3e",
   "metadata": {},
   "source": [
    "## 4. Interactive Variable Inspection\n",
    "\n",
    "In Jupyter notebooks, you can simply write a variable name at the end of a cell to display its value. This is very convenient for quick inspection."
   ]
  },
  {
   "cell_type": "code",
   "execution_count": 4,
   "id": "e4d9b972",
   "metadata": {},
   "outputs": [
    {
     "data": {
      "text/plain": [
       "[{'day': '2025-07-01', 'score': 85, 'total_sleep_duration': 28800},\n",
       " {'day': '2025-07-02', 'score': 78, 'total_sleep_duration': 26400},\n",
       " {'day': '2025-07-03', 'score': 92, 'total_sleep_duration': 30600}]"
      ]
     },
     "execution_count": 4,
     "metadata": {},
     "output_type": "execute_result"
    }
   ],
   "source": [
    "# Just write the variable name to see its value\n",
    "sample_sleep_data"
   ]
  },
  {
   "cell_type": "code",
   "execution_count": 5,
   "id": "788cda0c",
   "metadata": {},
   "outputs": [
    {
     "data": {
      "text/plain": [
       "{'day': '2025-07-01', 'score': 85, 'total_sleep_duration': 28800}"
      ]
     },
     "execution_count": 5,
     "metadata": {},
     "output_type": "execute_result"
    }
   ],
   "source": [
    "# You can also access specific parts of your data\n",
    "sample_sleep_data[0]  # First sleep record"
   ]
  },
  {
   "cell_type": "code",
   "execution_count": 6,
   "id": "20bc26bc",
   "metadata": {},
   "outputs": [
    {
     "data": {
      "text/plain": [
       "[85, 78, 92]"
      ]
     },
     "execution_count": 6,
     "metadata": {},
     "output_type": "execute_result"
    }
   ],
   "source": [
    "# Extract specific values from your data\n",
    "sleep_scores = [record[\"score\"] for record in sample_sleep_data]\n",
    "sleep_scores  # This will display the list"
   ]
  },
  {
   "cell_type": "markdown",
   "id": "c0e1e717",
   "metadata": {},
   "source": [
    "## 5. Using the Variables Explorer\n",
    "\n",
    "In VS Code's Jupyter environment, you can access the Variables Explorer by:\n",
    "1. Click on the \"Variables\" button in the Jupyter toolbar\n",
    "2. Or use Ctrl+Shift+P and search for \"Python: Focus on Variables View\"\n",
    "\n",
    "This gives you a visual interface to see all your variables, their types, and values."
   ]
  },
  {
   "cell_type": "markdown",
   "id": "fa838dc2",
   "metadata": {},
   "source": [
    "## 6. Debugging and Variable Watching\n",
    "\n",
    "For more complex debugging, you can use these techniques:"
   ]
  },
  {
   "cell_type": "code",
   "execution_count": 7,
   "id": "77d88bff",
   "metadata": {},
   "outputs": [
    {
     "name": "stdout",
     "output_type": "stream",
     "text": [
      "=== PROCESSING OURA DATA ===\n",
      "Step 1 - Sleep scores: [85, 78, 92]\n",
      "         Average sleep score: 85.0\n",
      "Step 2 - Step counts: [8500, 12000, 6800]\n",
      "         Total steps: 27300\n",
      "Step 3 - Combined data length: 3\n",
      "         First combined record: {'date': '2025-07-01', 'sleep_score': 85, 'steps': 8500, 'calories': 2100}\n",
      "\n",
      "=== FINAL RESULT ===\n",
      "Type: <class 'list'>\n",
      "Length: 3\n",
      "All records: [{'date': '2025-07-01', 'sleep_score': 85, 'steps': 8500, 'calories': 2100}, {'date': '2025-07-02', 'sleep_score': 78, 'steps': 12000, 'calories': 2300}, {'date': '2025-07-03', 'sleep_score': 92, 'steps': 6800, 'calories': 1950}]\n"
     ]
    }
   ],
   "source": [
    "# Simulate processing your Oura data with debugging\n",
    "def process_oura_data(sleep_data, activity_data):\n",
    "    \"\"\"Process Oura data and inspect variables at each step\"\"\"\n",
    "    \n",
    "    print(\"=== PROCESSING OURA DATA ===\")\n",
    "    \n",
    "    # Step 1: Extract sleep scores\n",
    "    sleep_scores = [record[\"score\"] for record in sleep_data]\n",
    "    print(f\"Step 1 - Sleep scores: {sleep_scores}\")\n",
    "    print(f\"         Average sleep score: {sum(sleep_scores) / len(sleep_scores):.1f}\")\n",
    "    \n",
    "    # Step 2: Extract step counts\n",
    "    step_counts = [record[\"steps\"] for record in activity_data]\n",
    "    print(f\"Step 2 - Step counts: {step_counts}\")\n",
    "    print(f\"         Total steps: {sum(step_counts)}\")\n",
    "    \n",
    "    # Step 3: Combine data\n",
    "    combined_data = []\n",
    "    for i, sleep_record in enumerate(sleep_data):\n",
    "        activity_record = activity_data[i]\n",
    "        combined_record = {\n",
    "            \"date\": sleep_record[\"day\"],\n",
    "            \"sleep_score\": sleep_record[\"score\"],\n",
    "            \"steps\": activity_record[\"steps\"],\n",
    "            \"calories\": activity_record[\"calories\"]\n",
    "        }\n",
    "        combined_data.append(combined_record)\n",
    "    \n",
    "    print(f\"Step 3 - Combined data length: {len(combined_data)}\")\n",
    "    print(f\"         First combined record: {combined_data[0]}\")\n",
    "    \n",
    "    return combined_data\n",
    "\n",
    "# Run the processing function\n",
    "processed_data = process_oura_data(sample_sleep_data, sample_activity_data)\n",
    "\n",
    "# Inspect the final result\n",
    "print(f\"\\n=== FINAL RESULT ===\")\n",
    "print(f\"Type: {type(processed_data)}\")\n",
    "print(f\"Length: {len(processed_data)}\")\n",
    "print(f\"All records: {processed_data}\")"
   ]
  },
  {
   "cell_type": "markdown",
   "id": "a59cd41e",
   "metadata": {},
   "source": [
    "## Summary: Ways to Run Your Oura Code and View Variables\n",
    "\n",
    "Now you have several methods to work with your Oura Ring data:\n",
    "\n",
    "### Method 1: Use this Jupyter Notebook\n",
    "- **Best for**: Interactive development and data exploration\n",
    "- **Advantages**: Can see variables immediately, visual interface, easy to modify and rerun sections\n",
    "- **How**: Run each cell and view outputs, use Variables Explorer\n",
    "\n",
    "### Method 2: Python Interactive Terminal\n",
    "- **Best for**: Quick testing and debugging\n",
    "- **How**: Run `python -i` in terminal, then paste code sections\n",
    "\n",
    "### Method 3: Run Full Script with Variable Inspection\n",
    "- **Best for**: Production runs with debugging output\n",
    "- **How**: Add print statements throughout your script to see variable values\n",
    "\n",
    "### Method 4: VS Code Debugger\n",
    "- **Best for**: Step-by-step debugging\n",
    "- **How**: Set breakpoints in your .py file and run in debug mode\n",
    "\n",
    "### To Use With Real Data:\n",
    "1. **Never commit real tokens** - Store them in `.env` files outside the repository\n",
    "2. **Follow SECRETS_SETUP.md** - See the guide for proper token management\n",
    "3. **Use the CLI** - Run `python -m oura_rings.cli` with proper configuration\n",
    "4. **Check outputs** - Verify data is saved outside the repository\n",
    "\n",
    "### Security Reminders:\n",
    "- ✅ This notebook uses dummy data only\n",
    "- ✅ Real tokens should be in `pat_r*.env` files (outside repo)\n",
    "- ✅ Never hardcode tokens in notebooks or scripts\n",
    "- ✅ Review `.gitignore` to ensure token files are excluded\n",
    "\n",
    "Try running the cells above to see these methods in action!"
   ]
  }
 ],
 "metadata": {
  "kernelspec": {
   "display_name": "main",
   "language": "python",
   "name": "python3"
  },
  "language_info": {
   "codemirror_mode": {
    "name": "ipython",
    "version": 3
   },
   "file_extension": ".py",
   "mimetype": "text/x-python",
   "name": "python",
   "nbconvert_exporter": "python",
   "pygments_lexer": "ipython3",
   "version": "3.13.5"
  }
 },
 "nbformat": 4,
 "nbformat_minor": 5
}
